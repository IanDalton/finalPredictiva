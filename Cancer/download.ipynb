{
 "cells": [
  {
   "cell_type": "code",
   "execution_count": 1,
   "metadata": {},
   "outputs": [],
   "source": [
    "import pandas as pd\n",
    "from feature_engine.imputation import AddMissingIndicator, CategoricalImputer, MeanMedianImputer\n",
    "from feature_engine.encoding import OneHotEncoder,RareLabelEncoder,CountFrequencyEncoder\n",
    "from feature_engine.selection import  DropFeatures\n",
    "from sklearn.preprocessing import MultiLabelBinarizer,LabelEncoder\n",
    "from sklearn.preprocessing import FunctionTransformer\n",
    "import json,re\n",
    "from sklearn.model_selection import train_test_split\n",
    "from concurrent.futures import ThreadPoolExecutor\n",
    "import numpy as np\n",
    "from sklearn.pipeline import Pipeline\n",
    "from sklearn.base import BaseEstimator, TransformerMixin\n",
    "from joblib import Parallel, delayed\n",
    "from xgboost import XGBClassifier\n"
   ]
  },
  {
   "cell_type": "code",
   "execution_count": 2,
   "metadata": {},
   "outputs": [],
   "source": [
    "df = pd.read_csv('metadata.csv')"
   ]
  },
  {
   "cell_type": "code",
   "execution_count": 3,
   "metadata": {},
   "outputs": [
    {
     "name": "stdout",
     "output_type": "stream",
     "text": [
      "<class 'pandas.core.frame.DataFrame'>\n",
      "RangeIndex: 2298 entries, 0 to 2297\n",
      "Data columns (total 26 columns):\n",
      " #   Column               Non-Null Count  Dtype  \n",
      "---  ------               --------------  -----  \n",
      " 0   patient_id           2298 non-null   object \n",
      " 1   lesion_id            2298 non-null   int64  \n",
      " 2   smoke                1494 non-null   object \n",
      " 3   drink                1494 non-null   object \n",
      " 4   background_father    1480 non-null   object \n",
      " 5   background_mother    1476 non-null   object \n",
      " 6   age                  2298 non-null   int64  \n",
      " 7   pesticide            1494 non-null   object \n",
      " 8   gender               1494 non-null   object \n",
      " 9   skin_cancer_history  1494 non-null   object \n",
      " 10  cancer_history       1494 non-null   object \n",
      " 11  has_piped_water      1494 non-null   object \n",
      " 12  has_sewage_system    1494 non-null   object \n",
      " 13  fitspatrick          1494 non-null   float64\n",
      " 14  region               2298 non-null   object \n",
      " 15  diameter_1           1494 non-null   float64\n",
      " 16  diameter_2           1494 non-null   float64\n",
      " 17  diagnostic           2298 non-null   object \n",
      " 18  itch                 2298 non-null   object \n",
      " 19  grew                 2298 non-null   object \n",
      " 20  hurt                 2298 non-null   object \n",
      " 21  changed              2298 non-null   object \n",
      " 22  bleed                2298 non-null   object \n",
      " 23  elevation            2298 non-null   object \n",
      " 24  img_id               2298 non-null   object \n",
      " 25  biopsed              2298 non-null   bool   \n",
      "dtypes: bool(1), float64(3), int64(2), object(20)\n",
      "memory usage: 451.2+ KB\n"
     ]
    }
   ],
   "source": [
    "df.info()"
   ]
  },
  {
   "cell_type": "code",
   "execution_count": 4,
   "metadata": {},
   "outputs": [],
   "source": [
    "X = df.sample(frac=0.8, random_state=200)\n",
    "X_test = df.drop(X.index)\n",
    "y = X.diagnostic\n",
    "y_test = X_test.diagnostic\n",
    "\n",
    "X = X.drop('diagnostic',axis=1)\n",
    "X_test = X_test.drop('diagnostic',axis=1)\n",
    "\n",
    "del df"
   ]
  },
  {
   "cell_type": "code",
   "execution_count": 16,
   "metadata": {},
   "outputs": [
    {
     "name": "stderr",
     "output_type": "stream",
     "text": [
      "/Library/Frameworks/Python.framework/Versions/3.12/lib/python3.12/site-packages/feature_engine/encoding/base_encoder.py:255: UserWarning: During the encoding, NaN values were introduced in the feature(s) background_father, background_mother.\n",
      "  warnings.warn(\n",
      "/Library/Frameworks/Python.framework/Versions/3.12/lib/python3.12/site-packages/feature_engine/encoding/base_encoder.py:255: UserWarning: During the encoding, NaN values were introduced in the feature(s) background_father, background_mother.\n",
      "  warnings.warn(\n"
     ]
    },
    {
     "data": {
      "text/plain": [
       "0.841304347826087"
      ]
     },
     "execution_count": 16,
     "metadata": {},
     "output_type": "execute_result"
    }
   ],
   "source": [
    "encoder = LabelEncoder()\n",
    "y = encoder.fit_transform(y)\n",
    "y_test = encoder.transform(y_test)\n",
    "preprocess = Pipeline([\n",
    "    (\"dropear\", FunctionTransformer(lambda x: x.drop([\"img_id\",\"patient_id\",\"lesion_id\"], axis=1, errors='ignore'))),\n",
    "    (\"indicador_NAs\",AddMissingIndicator(missing_only= True,variables = [\"has_sewage_system\",\"fitspatrick\",\"diameter_1\",\"diameter_2\",\"skin_cancer_history\",\"cancer_history\",\"has_piped_water\",\"background_father\",\"background_mother\",\"pesticide\",\"smoke\",\"drink\"])),\n",
    "    (\"missing_categoricas\",CategoricalImputer(variables = [\"has_sewage_system\",\"region\",\"gender\"])),\n",
    "    (\"encoding_onehot\",OneHotEncoder(variables = [\"region\",\"gender\"])),\n",
    "    (\"frequency_encoder\", CountFrequencyEncoder(encoding_method='frequency',missing_values='ignore', variables=[\"background_father\",\"background_mother\"])),\n",
    "    (\"NaN_father\",FunctionTransformer(lambda x: x.assign(background_father = x['background_father'].fillna(0)))),\n",
    "    (\"NaN_mother\",FunctionTransformer(lambda x: x.assign(background_mother = x['background_mother'].fillna(0)))),\n",
    "    (\"tf_itch\", FunctionTransformer(lambda x: x.assign(itch = x['itch'].apply(lambda x: 1 if x==\"TRUE\" else 2 if x==\"UNK\" else 0)))),\n",
    "    (\"tf_grew\", FunctionTransformer(lambda x: x.assign(grew = x['grew'].apply(lambda x: 1 if x==\"TRUE\" else 2 if x==\"UNK\" else 0)))),\n",
    "    (\"tf_hurt\", FunctionTransformer(lambda x: x.assign(hurt = x['hurt'].apply(lambda x: 1 if x==\"TRUE\" else 2 if x==\"UNK\" else 0)))),\n",
    "    (\"tf_changed\", FunctionTransformer(lambda x: x.assign(changed = x['changed'].apply(lambda x: 1 if x==\"TRUE\" else 2 if x==\"UNK\" else 0)))),\n",
    "    (\"tf_bleed\", FunctionTransformer(lambda x: x.assign(bleed = x['bleed'].apply(lambda x: 1 if x==\"TRUE\" else 2 if x==\"UNK\" else 0)))),\n",
    "    (\"tf_elevation\", FunctionTransformer(lambda x: x.assign(elevation = x['elevation'].apply(lambda x: 1 if x==\"TRUE\" else 2 if x==\"UNK\" else 0)))),\n",
    "    (\"tf_biopsed\",FunctionTransformer(lambda x: x.assign(biopsed = x['biopsed'].apply(lambda val: 1 if val  else 0)))),\n",
    "    (\"tf_sewage\", FunctionTransformer(lambda x: x.assign(has_sewage_system = x['has_sewage_system'].replace(\"Missing\", False).fillna(False).astype(int).apply(lambda val: 1 if val else 0)))),\n",
    "    (\"tf_skin_cancer_history\", FunctionTransformer(lambda x: x.assign(skin_cancer_history = x['skin_cancer_history'].replace(\"Missing\", False).fillna(False).astype(int).apply(lambda val: 1 if val else 0)))),\n",
    "    (\"tf_cancer_history\", FunctionTransformer(lambda x: x.assign(cancer_history = x['cancer_history'].replace(\"Missing\", False).fillna(False).astype(int).apply(lambda val: 1 if val else 0)))),\n",
    "    (\"tf_pipedwater\", FunctionTransformer(lambda x: x.assign(has_piped_water = x['has_piped_water'].replace(\"Missing\", False).fillna(False).astype(int).apply(lambda val: 1 if val else 0)))),\n",
    "    (\"tf_pesticide\", FunctionTransformer(lambda x: x.assign(pesticide = x['pesticide'].replace(\"Missing\", False).fillna(False).astype(int).apply(lambda val: 1 if val else 0)))),\n",
    "    (\"tf_smoke\", FunctionTransformer(lambda x: x.assign(smoke = x['smoke'].replace(\"Missing\", False).fillna(False).astype(int).apply(lambda val: 1 if val else 0)))),\n",
    "    (\"tf_drink\", FunctionTransformer(lambda x: x.assign(drink = x['drink'].replace(\"Missing\", False).fillna(False).astype(int).apply(lambda val: 1 if val else 0)))),\n",
    "    (\"imputar_numericas\",MeanMedianImputer( imputation_method = \"median\", variables= [\"fitspatrick\",\"diameter_1\",\"diameter_2\",\"age\"])),\n",
    "])\n",
    "pipe = Pipeline([\n",
    "    ('preprocess',preprocess),\n",
    "    ('model',XGBClassifier())\n",
    "])\n",
    "\"\"\" x2 = preprocess.fit_transform(X)\n",
    "\n",
    "#Print x2 categorical variables\n",
    "for col in x2.columns:\n",
    "    if x2[col].dtype == 'object':\n",
    "        print(col)\n",
    "        print(x2[col].value_counts())\n",
    "        print()\n",
    "        print()\n",
    " \"\"\"\n",
    "\n",
    "pipe.fit(X,y)\n",
    "pipe.score(X_test,y_test)"
   ]
  }
 ],
 "metadata": {
  "kernelspec": {
   "display_name": "Python 3",
   "language": "python",
   "name": "python3"
  },
  "language_info": {
   "codemirror_mode": {
    "name": "ipython",
    "version": 3
   },
   "file_extension": ".py",
   "mimetype": "text/x-python",
   "name": "python",
   "nbconvert_exporter": "python",
   "pygments_lexer": "ipython3",
   "version": "3.12.1"
  }
 },
 "nbformat": 4,
 "nbformat_minor": 2
}
