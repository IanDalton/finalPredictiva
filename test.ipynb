{
 "cells": [
  {
   "cell_type": "code",
   "execution_count": 25,
   "metadata": {},
   "outputs": [],
   "source": [
    "import pandas as pd"
   ]
  },
  {
   "cell_type": "code",
   "execution_count": 26,
   "metadata": {},
   "outputs": [],
   "source": [
    "df = pd.read_csv('airbnb.csv')"
   ]
  },
  {
   "cell_type": "code",
   "execution_count": 27,
   "metadata": {},
   "outputs": [],
   "source": [
    "datos= list(df['name'].apply(lambda x: x.split(' · ')))"
   ]
  },
  {
   "cell_type": "code",
   "execution_count": null,
   "metadata": {},
   "outputs": [],
   "source": []
  },
  {
   "cell_type": "code",
   "execution_count": 28,
   "metadata": {},
   "outputs": [],
   "source": [
    "alquileres = []\n",
    "\n",
    "def proccess_rental(rental):\n",
    "    info = {\n",
    "        \"rating\" : None,\n",
    "        \"bedroom\":None,\n",
    "        \"bed\" : None,\n",
    "        \"bath\":None,\n",
    "        \"is_studio\":False,\n",
    "        #\"private_bath\":True,\n",
    "        \"type\":None\n",
    "    }\n",
    "    data:str\n",
    "    for data in rental: \n",
    "        if data == \"Studio\":\n",
    "            info[\"is_studio\"] = True\n",
    "            info[\"bedroom\"] = 1\n",
    "        elif \"bedroom\" in data:\n",
    "            info[\"bedroom\"] = data.split(\" \")[0]\n",
    "        elif \"bed\" in data:\n",
    "            info[\"bed\"] = data.split(\" \")[0]\n",
    "        elif \"bath\" in data:\n",
    "            info[\"bath\"] = data.split(\" \")[0]\n",
    "        elif \"★\" in data:\n",
    "            info[\"rating\"] = data[1:]\n",
    "        else:\n",
    "            tipo = data.split(\"in\")[0]\n",
    "            info['type'] = tipo\n",
    "            \n",
    "            \n",
    "        \n",
    "\n",
    "\n",
    "    return info\n",
    "\n",
    "for rental in datos:\n",
    "    alquileres.append(proccess_rental(rental))\n",
    "        "
   ]
  },
  {
   "cell_type": "code",
   "execution_count": 29,
   "metadata": {},
   "outputs": [],
   "source": [
    "#drop the column name\n",
    "df.drop(['name'], axis=1, inplace=True)\n",
    "#add alquilares to the dataframe\n",
    "df = pd.concat([df, pd.DataFrame(alquileres)], axis=1)"
   ]
  },
  {
   "cell_type": "code",
   "execution_count": null,
   "metadata": {},
   "outputs": [],
   "source": [
    "df.to_csv('airbnb_clean.csv', index=False)"
   ]
  }
 ],
 "metadata": {
  "kernelspec": {
   "display_name": "Python 3",
   "language": "python",
   "name": "python3"
  },
  "language_info": {
   "codemirror_mode": {
    "name": "ipython",
    "version": 3
   },
   "file_extension": ".py",
   "mimetype": "text/x-python",
   "name": "python",
   "nbconvert_exporter": "python",
   "pygments_lexer": "ipython3",
   "version": "3.12.0"
  }
 },
 "nbformat": 4,
 "nbformat_minor": 2
}
