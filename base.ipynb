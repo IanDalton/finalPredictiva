{
 "cells": [
  {
   "cell_type": "code",
   "execution_count": 29,
   "metadata": {},
   "outputs": [],
   "source": [
    "import pandas as pd"
   ]
  },
  {
   "cell_type": "code",
   "execution_count": 30,
   "metadata": {},
   "outputs": [],
   "source": [
    "df = pd.read_csv('listings.csv')"
   ]
  },
  {
   "cell_type": "code",
   "execution_count": 31,
   "metadata": {},
   "outputs": [
    {
     "name": "stdout",
     "output_type": "stream",
     "text": [
      "<class 'pandas.core.frame.DataFrame'>\n",
      "RangeIndex: 29346 entries, 0 to 29345\n",
      "Data columns (total 75 columns):\n",
      " #   Column                                        Non-Null Count  Dtype  \n",
      "---  ------                                        --------------  -----  \n",
      " 0   id                                            29346 non-null  int64  \n",
      " 1   listing_url                                   29346 non-null  object \n",
      " 2   scrape_id                                     29346 non-null  int64  \n",
      " 3   last_scraped                                  29346 non-null  object \n",
      " 4   source                                        29346 non-null  object \n",
      " 5   name                                          29346 non-null  object \n",
      " 6   description                                   28747 non-null  object \n",
      " 7   neighborhood_overview                         16259 non-null  object \n",
      " 8   picture_url                                   29346 non-null  object \n",
      " 9   host_id                                       29346 non-null  int64  \n",
      " 10  host_url                                      29346 non-null  object \n",
      " 11  host_name                                     29346 non-null  object \n",
      " 12  host_since                                    29346 non-null  object \n",
      " 13  host_location                                 22754 non-null  object \n",
      " 14  host_about                                    16338 non-null  object \n",
      " 15  host_response_time                            25621 non-null  object \n",
      " 16  host_response_rate                            25621 non-null  object \n",
      " 17  host_acceptance_rate                          26819 non-null  object \n",
      " 18  host_is_superhost                             27893 non-null  object \n",
      " 19  host_thumbnail_url                            29346 non-null  object \n",
      " 20  host_picture_url                              29346 non-null  object \n",
      " 21  host_neighbourhood                            19698 non-null  object \n",
      " 22  host_listings_count                           29346 non-null  int64  \n",
      " 23  host_total_listings_count                     29346 non-null  int64  \n",
      " 24  host_verifications                            29346 non-null  object \n",
      " 25  host_has_profile_pic                          29346 non-null  object \n",
      " 26  host_identity_verified                        29346 non-null  object \n",
      " 27  neighbourhood                                 16259 non-null  object \n",
      " 28  neighbourhood_cleansed                        29346 non-null  object \n",
      " 29  neighbourhood_group_cleansed                  0 non-null      float64\n",
      " 30  latitude                                      29346 non-null  float64\n",
      " 31  longitude                                     29346 non-null  float64\n",
      " 32  property_type                                 29346 non-null  object \n",
      " 33  room_type                                     29346 non-null  object \n",
      " 34  accommodates                                  29346 non-null  int64  \n",
      " 35  bathrooms                                     0 non-null      float64\n",
      " 36  bathrooms_text                                29322 non-null  object \n",
      " 37  bedrooms                                      23221 non-null  float64\n",
      " 38  beds                                          29085 non-null  float64\n",
      " 39  amenities                                     29346 non-null  object \n",
      " 40  price                                         29346 non-null  object \n",
      " 41  minimum_nights                                29346 non-null  int64  \n",
      " 42  maximum_nights                                29346 non-null  int64  \n",
      " 43  minimum_minimum_nights                        29346 non-null  int64  \n",
      " 44  maximum_minimum_nights                        29346 non-null  int64  \n",
      " 45  minimum_maximum_nights                        29346 non-null  int64  \n",
      " 46  maximum_maximum_nights                        29346 non-null  int64  \n",
      " 47  minimum_nights_avg_ntm                        29346 non-null  float64\n",
      " 48  maximum_nights_avg_ntm                        29346 non-null  float64\n",
      " 49  calendar_updated                              0 non-null      float64\n",
      " 50  has_availability                              29346 non-null  object \n",
      " 51  availability_30                               29346 non-null  int64  \n",
      " 52  availability_60                               29346 non-null  int64  \n",
      " 53  availability_90                               29346 non-null  int64  \n",
      " 54  availability_365                              29346 non-null  int64  \n",
      " 55  calendar_last_scraped                         29346 non-null  object \n",
      " 56  number_of_reviews                             29346 non-null  int64  \n",
      " 57  number_of_reviews_ltm                         29346 non-null  int64  \n",
      " 58  number_of_reviews_l30d                        29346 non-null  int64  \n",
      " 59  first_review                                  23841 non-null  object \n",
      " 60  last_review                                   23841 non-null  object \n",
      " 61  review_scores_rating                          23843 non-null  float64\n",
      " 62  review_scores_accuracy                        23767 non-null  float64\n",
      " 63  review_scores_cleanliness                     23765 non-null  float64\n",
      " 64  review_scores_checkin                         23766 non-null  float64\n",
      " 65  review_scores_communication                   23768 non-null  float64\n",
      " 66  review_scores_location                        23767 non-null  float64\n",
      " 67  review_scores_value                           23767 non-null  float64\n",
      " 68  license                                       445 non-null    object \n",
      " 69  instant_bookable                              29346 non-null  object \n",
      " 70  calculated_host_listings_count                29346 non-null  int64  \n",
      " 71  calculated_host_listings_count_entire_homes   29346 non-null  int64  \n",
      " 72  calculated_host_listings_count_private_rooms  29346 non-null  int64  \n",
      " 73  calculated_host_listings_count_shared_rooms   29346 non-null  int64  \n",
      " 74  reviews_per_month                             23841 non-null  float64\n",
      "dtypes: float64(17), int64(23), object(35)\n",
      "memory usage: 16.8+ MB\n"
     ]
    }
   ],
   "source": [
    "df.info()"
   ]
  },
  {
   "cell_type": "code",
   "execution_count": 32,
   "metadata": {},
   "outputs": [],
   "source": [
    "# arreglar bathrooms y bathrooms text\n",
    "\n",
    "df[\"bathrooms\"] = df[\"bathrooms_text\"].str.split(\" \", n = 1, expand = True)[0]\n",
    "df[\"is_shared_bathroom\"] = df[\"bathrooms_text\"].str.split(\" \", n = 1, expand = True)[1]\n",
    "df[\"is_shared_bathroom\"] = df[\"is_shared_bathroom\"].apply(lambda x: 1 if isinstance(x, str) and \"shared\" in x else 0)"
   ]
  },
  {
   "cell_type": "code",
   "execution_count": 33,
   "metadata": {},
   "outputs": [],
   "source": [
    "\"\"\" listing_url\n",
    "scrape_id\n",
    "last_scraped\n",
    "source\n",
    "name? \n",
    "picture_url\n",
    "host_url\n",
    "host_name\n",
    "host_thumbnail_url\n",
    "host_pincture_url\n",
    "neighbouhood\n",
    "neighbouhood_group_cleansed\n",
    "\n",
    "calendar_updated\n",
    "calendar_last_scraped \"\"\"\n",
    "# remove those columns\n",
    "df = df.drop(['listing_url', 'scrape_id', 'last_scraped',\n",
    "                'source', 'name', 'picture_url', 'host_url', 'host_name',\n",
    "                'host_thumbnail_url', 'host_picture_url', 'neighbourhood',\n",
    "                'neighbourhood_group_cleansed', 'calendar_updated', 'calendar_last_scraped','bathrooms_text'], \n",
    "            axis=1)\n"
   ]
  },
  {
   "cell_type": "code",
   "execution_count": 34,
   "metadata": {},
   "outputs": [],
   "source": [
    "df.to_csv('listings_clean.csv', index=False)"
   ]
  }
 ],
 "metadata": {
  "kernelspec": {
   "display_name": "Python 3",
   "language": "python",
   "name": "python3"
  },
  "language_info": {
   "codemirror_mode": {
    "name": "ipython",
    "version": 3
   },
   "file_extension": ".py",
   "mimetype": "text/x-python",
   "name": "python",
   "nbconvert_exporter": "python",
   "pygments_lexer": "ipython3",
   "version": "3.12.0"
  }
 },
 "nbformat": 4,
 "nbformat_minor": 2
}
