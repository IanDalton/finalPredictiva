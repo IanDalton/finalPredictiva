{
 "cells": [
  {
   "cell_type": "code",
   "execution_count": 2,
   "metadata": {},
   "outputs": [],
   "source": [
    "import pandas as pd\n",
    "from feature_engine.imputation import AddMissingIndicator, CategoricalImputer, MeanMedianImputer\n",
    "from feature_engine.encoding import OneHotEncoder,RareLabelEncoder,CountFrequencyEncoder\n",
    "from feature_engine.selection import  DropFeatures\n",
    "from sklearn.preprocessing import MultiLabelBinarizer\n",
    "from sklearn.preprocessing import FunctionTransformer\n",
    "import json,re\n",
    "from sklearn.model_selection import train_test_split\n",
    "from concurrent.futures import ThreadPoolExecutor\n",
    "import numpy as np\n",
    "from sklearn.pipeline import Pipeline\n",
    "from sklearn.base import BaseEstimator, TransformerMixin\n",
    "from joblib import Parallel, delayed\n",
    "#is host in bsas\n",
    "#"
   ]
  },
  {
   "cell_type": "code",
   "execution_count": 3,
   "metadata": {},
   "outputs": [],
   "source": [
    "df = pd.read_csv('listings_clean.csv')\n",
    "df_test = df.sample(frac=0.2, random_state=42)\n",
    "df_train = df.drop(df_test.index)\n",
    "del df"
   ]
  },
  {
   "cell_type": "code",
   "execution_count": 4,
   "metadata": {},
   "outputs": [],
   "source": [
    "X = df_train.drop('price', axis=1)\n",
    "y = df_train['price']\n",
    "del df_train\n",
    "X_test = df_test.drop('price', axis=1)\n",
    "y_test = df_test['price']\n",
    "del df_test"
   ]
  },
  {
   "cell_type": "code",
   "execution_count": 5,
   "metadata": {},
   "outputs": [
    {
     "name": "stdout",
     "output_type": "stream",
     "text": [
      "<class 'pandas.core.frame.DataFrame'>\n",
      "Index: 23477 entries, 0 to 29345\n",
      "Data columns (total 64 columns):\n",
      " #   Column                                        Non-Null Count  Dtype  \n",
      "---  ------                                        --------------  -----  \n",
      " 0   id                                            23477 non-null  int64  \n",
      " 1   name                                          23477 non-null  object \n",
      " 2   description                                   22995 non-null  object \n",
      " 3   neighborhood_overview                         12967 non-null  object \n",
      " 4   host_id                                       23477 non-null  int64  \n",
      " 5   host_since                                    23477 non-null  object \n",
      " 6   host_location                                 18157 non-null  object \n",
      " 7   host_response_time                            20478 non-null  object \n",
      " 8   host_response_rate                            20478 non-null  object \n",
      " 9   host_acceptance_rate                          21457 non-null  object \n",
      " 10  host_is_superhost                             22325 non-null  object \n",
      " 11  host_neighbourhood                            15775 non-null  object \n",
      " 12  host_listings_count                           23477 non-null  int64  \n",
      " 13  host_total_listings_count                     23477 non-null  int64  \n",
      " 14  host_verifications                            23477 non-null  object \n",
      " 15  host_identity_verified                        23477 non-null  object \n",
      " 16  neighbourhood_cleansed                        23477 non-null  object \n",
      " 17  latitude                                      23477 non-null  float64\n",
      " 18  longitude                                     23477 non-null  float64\n",
      " 19  property_type                                 23477 non-null  object \n",
      " 20  room_type                                     23477 non-null  object \n",
      " 21  accommodates                                  23477 non-null  int64  \n",
      " 22  bathrooms                                     23456 non-null  float64\n",
      " 23  bedrooms                                      18601 non-null  float64\n",
      " 24  beds                                          23271 non-null  float64\n",
      " 25  amenities                                     23477 non-null  object \n",
      " 26  minimum_nights                                23477 non-null  int64  \n",
      " 27  maximum_nights                                23477 non-null  int64  \n",
      " 28  minimum_minimum_nights                        23477 non-null  int64  \n",
      " 29  maximum_minimum_nights                        23477 non-null  int64  \n",
      " 30  minimum_maximum_nights                        23477 non-null  int64  \n",
      " 31  maximum_maximum_nights                        23477 non-null  int64  \n",
      " 32  minimum_nights_avg_ntm                        23477 non-null  float64\n",
      " 33  maximum_nights_avg_ntm                        23477 non-null  float64\n",
      " 34  has_availability                              23477 non-null  object \n",
      " 35  availability_30                               23477 non-null  int64  \n",
      " 36  availability_60                               23477 non-null  int64  \n",
      " 37  availability_90                               23477 non-null  int64  \n",
      " 38  availability_365                              23477 non-null  int64  \n",
      " 39  number_of_reviews                             23477 non-null  int64  \n",
      " 40  number_of_reviews_ltm                         23477 non-null  int64  \n",
      " 41  number_of_reviews_l30d                        23477 non-null  int64  \n",
      " 42  first_review                                  19028 non-null  object \n",
      " 43  last_review                                   19028 non-null  object \n",
      " 44  review_scores_rating                          19030 non-null  float64\n",
      " 45  review_scores_accuracy                        18962 non-null  float64\n",
      " 46  review_scores_cleanliness                     18961 non-null  float64\n",
      " 47  review_scores_checkin                         18962 non-null  float64\n",
      " 48  review_scores_communication                   18963 non-null  float64\n",
      " 49  review_scores_location                        18962 non-null  float64\n",
      " 50  review_scores_value                           18963 non-null  float64\n",
      " 51  license                                       23477 non-null  int64  \n",
      " 52  instant_bookable                              23477 non-null  object \n",
      " 53  calculated_host_listings_count                23477 non-null  int64  \n",
      " 54  calculated_host_listings_count_entire_homes   23477 non-null  int64  \n",
      " 55  calculated_host_listings_count_private_rooms  23477 non-null  int64  \n",
      " 56  calculated_host_listings_count_shared_rooms   23477 non-null  int64  \n",
      " 57  reviews_per_month                             19028 non-null  float64\n",
      " 58  is_shared_bathroom                            23477 non-null  int64  \n",
      " 59  Days_between_first_last_reviews               19028 non-null  float64\n",
      " 60  host_has_about                                23477 non-null  int64  \n",
      " 61  host_about_len                                23477 non-null  int64  \n",
      " 62  is_max_nights_different                       23477 non-null  bool   \n",
      " 63  is_min_nights_different                       23477 non-null  bool   \n",
      "dtypes: bool(2), float64(16), int64(26), object(20)\n",
      "memory usage: 11.3+ MB\n"
     ]
    }
   ],
   "source": [
    "X.info()"
   ]
  },
  {
   "cell_type": "code",
   "execution_count": 6,
   "metadata": {},
   "outputs": [
    {
     "name": "stdout",
     "output_type": "stream",
     "text": [
      "name\n",
      "description\n",
      "neighborhood_overview\n",
      "host_since\n",
      "host_location\n",
      "host_response_time\n",
      "host_response_rate\n",
      "host_acceptance_rate\n",
      "host_is_superhost\n",
      "host_neighbourhood\n",
      "host_verifications\n",
      "host_identity_verified\n",
      "neighbourhood_cleansed\n",
      "property_type\n",
      "room_type\n",
      "amenities\n",
      "has_availability\n",
      "first_review\n",
      "last_review\n",
      "instant_bookable\n"
     ]
    }
   ],
   "source": [
    "#print all object columns\n",
    "for col in X.columns:\n",
    "    if X[col].dtype == 'object':\n",
    "        print(col)"
   ]
  },
  {
   "cell_type": "code",
   "execution_count": 10,
   "metadata": {},
   "outputs": [],
   "source": [
    "today = pd.to_datetime('today')\n",
    "\n",
    "def binarize_genres(X,column):\n",
    "    df_binarized = X[column].apply(lambda x: pd.Series([1] * len(x), index=x)).fillna(0).infer_objects()\n",
    "    df_binarized = pd.concat([X,df_binarized],axis=1)#.drop(column,axis=1)\n",
    "    return df_binarized\n",
    "\n",
    "pipe = Pipeline([\n",
    "    \n",
    "    ('countNameLen',FunctionTransformer(lambda x: x.assign(name_len=x['name'].apply(lambda x: len(eval(x)))))),\n",
    "    \n",
    "    ('descLen',FunctionTransformer(lambda x: x.assign(description_len=x['description'].apply(lambda x: len(x)) if type(x) == str else 0))),\n",
    "    ('transformNeighbourhood',FunctionTransformer(lambda x: x.assign(neighborhood_overview = len(x['neighborhood_overview'].str.split('<br/>')) if type(x['neighborhood_overview']) == str else 0))),\n",
    "    ('descriptionLen',FunctionTransformer(lambda x: x.assign(description = x['description'].apply(lambda x: len(x)) if type(x['description']) == str else 0))),\n",
    "    ('responseRate',FunctionTransformer(lambda x: x.assign(host_response_rate = x['host_response_rate'].apply(lambda x: float(x[:-1]) if type(x) == str else -99)))),\n",
    "    ('acceptanceRate',FunctionTransformer(lambda x: x.assign(host_acceptance_rate = x['host_acceptance_rate'].apply(lambda x: float(x[:-1]) if type(x) == str else -99)))),\n",
    "    ('hostIsSuperhost',FunctionTransformer(lambda x: x.assign(host_is_superhost = x['host_is_superhost'].apply(lambda x: 1 if x == 't' else 0)))),\n",
    "    #El host vive en buenos aires?\n",
    "    ('isHostLocationBsAs',FunctionTransformer(lambda x: x.assign(host_location = x['host_location'].apply(lambda x: 1 if type(x) == str and 'Buenos Aires' in x else 0)))),\n",
    "    ('daysSinceHost',FunctionTransformer(lambda x: x.assign(host_since = x['host_since'].apply(lambda x: (today - pd.to_datetime(x)).days)))),\n",
    "    ('fillMissings',CategoricalImputer(imputation_method='missing',variables=['host_response_time','host_neighbourhood'])),\n",
    "    ('responseTimeFrecuency',CountFrequencyEncoder(encoding_method='frequency',variables=['host_response_time'])),\n",
    "    ('isHostNeigbourhoodSame',FunctionTransformer(lambda x: x.assign(host_neighbourhood = x.apply(lambda x: 1 if x['host_neighbourhood'] == x['neighbourhood_cleansed'] else 0,axis=1)))),\n",
    "    \n",
    "    #('verificationsFill',CategoricalImputer(imputation_method='missing',variables=['host_verifications'])),\n",
    "    ('verificationsList',FunctionTransformer(lambda x: x.assign(host_verifications = x['host_verifications'].apply(lambda x: eval(x))))),\n",
    "    \n",
    "    ('verificationsOneHotList',FunctionTransformer(lambda x: binarize_genres(x,'host_verifications'))),\n",
    "    ('verificationsLen',FunctionTransformer(lambda x: x.assign(host_verifications = x['host_verifications'].apply(lambda x: len(x))if type(x) == list else 0))),\n",
    "    ('idVerified',FunctionTransformer(lambda x: x.assign(host_identity_verified = x['host_identity_verified'].apply(lambda x: 1 if x == 't' else 0)))),\n",
    "    \n",
    "    \n",
    "    ('fillMissings2',CategoricalImputer(imputation_method='missing',variables=['property_type','room_type'])),\n",
    "    ('propertyRoomType',CountFrequencyEncoder(encoding_method='frequency',variables=['property_type','room_type','neighbourhood_cleansed'])),\n",
    "\n",
    "\n",
    "    (\"dropFiller\",FunctionTransformer(lambda x: x.drop(['id','name'],axis=1))),\n",
    "\n",
    "    ('dropCat',FunctionTransformer(lambda x: x.drop(['amenities','has_availability','first_review','last_review','instant_bookable'],axis=1))),\n",
    "])\n",
    "# Se asume si el host no tiene superhost f o t, se toma como que no es superhost\n",
    "\n",
    "x2 = pipe.fit_transform(X)\n",
    "for col in x2.columns:\n",
    "    if x2[col].dtype == 'object':\n",
    "        print(col)"
   ]
  },
  {
   "cell_type": "code",
   "execution_count": 13,
   "metadata": {},
   "outputs": [
    {
     "name": "stdout",
     "output_type": "stream",
     "text": [
      "-0.0065556337682983745\n"
     ]
    },
    {
     "name": "stderr",
     "output_type": "stream",
     "text": [
      "/Library/Frameworks/Python.framework/Versions/3.12/lib/python3.12/site-packages/feature_engine/encoding/base_encoder.py:255: UserWarning: During the encoding, NaN values were introduced in the feature(s) property_type.\n",
      "  warnings.warn(\n"
     ]
    }
   ],
   "source": [
    "from xgboost import XGBRegressor\n",
    "from sklearn.model_selection import cross_val_score\n",
    "from sklearn.metrics import mean_squared_error\n",
    "\n",
    "regr = XGBRegressor(n_estimators=1000, learning_rate=0.05)\n",
    "regr.fit(x2, y)\n",
    "print(regr.score(pipe.transform(X_test),y_test))\n"
   ]
  }
 ],
 "metadata": {
  "kernelspec": {
   "display_name": "Python 3",
   "language": "python",
   "name": "python3"
  },
  "language_info": {
   "codemirror_mode": {
    "name": "ipython",
    "version": 3
   },
   "file_extension": ".py",
   "mimetype": "text/x-python",
   "name": "python",
   "nbconvert_exporter": "python",
   "pygments_lexer": "ipython3",
   "version": "3.12.1"
  }
 },
 "nbformat": 4,
 "nbformat_minor": 2
}
